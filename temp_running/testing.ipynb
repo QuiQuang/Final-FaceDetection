{
 "cells": [
  {
   "cell_type": "markdown",
   "metadata": {},
   "source": [
    "THƯ VIỆN"
   ]
  },
  {
   "cell_type": "code",
   "execution_count": 1,
   "metadata": {},
   "outputs": [],
   "source": [
    "from keras.preprocessing import image\n",
    "import numpy as np\n",
    "import os\n",
    "from tensorflow.keras.preprocessing.image import ImageDataGenerator\n",
    "from tensorflow.keras.optimizers import Adam\n",
    "from tensorflow.keras.models import Model\n",
    "from tensorflow.keras.callbacks import ModelCheckpoint\n",
    "from tensorflow.keras.applications.mobilenet_v2 import MobileNetV2 \n",
    "from tensorflow.keras.layers import Dense, Input, Dropout, Flatten"
   ]
  },
  {
   "cell_type": "markdown",
   "metadata": {},
   "source": [
    "---"
   ]
  },
  {
   "cell_type": "markdown",
   "metadata": {},
   "source": [
    "KHAI BÁO"
   ]
  },
  {
   "cell_type": "code",
   "execution_count": 2,
   "metadata": {},
   "outputs": [],
   "source": [
    "catergories = ['real', 'spoof']"
   ]
  },
  {
   "cell_type": "code",
   "execution_count": 7,
   "metadata": {},
   "outputs": [],
   "source": [
    "need_dir = 'antispoofing_dataset'\n",
    "train_dir = os.path.join(need_dir, 'train')\n",
    "test_dir = os.path.join(need_dir, 'test')"
   ]
  },
  {
   "cell_type": "code",
   "execution_count": 19,
   "metadata": {},
   "outputs": [],
   "source": [
    "link = './model_weights/model_16-0.890275.h5'"
   ]
  },
  {
   "cell_type": "markdown",
   "metadata": {},
   "source": [
    "---"
   ]
  },
  {
   "cell_type": "markdown",
   "metadata": {},
   "source": [
    "LOAD MODEL"
   ]
  },
  {
   "cell_type": "code",
   "execution_count": 14,
   "metadata": {},
   "outputs": [
    {
     "name": "stdout",
     "output_type": "stream",
     "text": [
      "WARNING:tensorflow:`input_shape` is undefined or non-square, or `rows` is not in [96, 128, 160, 192, 224]. Weights for input shape (224, 224) will be loaded as the default.\n"
     ]
    }
   ],
   "source": [
    "mobilenet = MobileNetV2(weights='imagenet', include_top=False, input_tensor=Input(shape=(160, 160, 3)))\n",
    "mobilenet.trainable = False\n",
    "output = Flatten()(mobilenet.output)\n",
    "output = Dropout(0.3)(output)\n",
    "output = Dense(units=8, activation='relu')(output)\n",
    "prediction = Dense(1, activation='sigmoid')(output)\n",
    "model = Model(inputs=mobilenet.input, outputs=prediction)"
   ]
  },
  {
   "cell_type": "code",
   "execution_count": 16,
   "metadata": {},
   "outputs": [],
   "source": [
    "model.load_weights(link)"
   ]
  },
  {
   "cell_type": "markdown",
   "metadata": {},
   "source": [
    "---"
   ]
  },
  {
   "cell_type": "markdown",
   "metadata": {},
   "source": [
    "TESTING"
   ]
  },
  {
   "cell_type": "code",
   "execution_count": 17,
   "metadata": {},
   "outputs": [],
   "source": [
    "def check_fake(path, catergory_type):\n",
    "    predictor = {}\n",
    "    path = os.path.join(path, catergory_type)\n",
    "    for each_img in os.listdir(path):\n",
    "        try:\n",
    "            img = image.load_img(os.path.join(path, each_img), target_size=(160, 160))\n",
    "            img = image.img_to_array(img)\n",
    "            img = np.expand_dims(img, axis=0)\n",
    "            img = img / 255.0\n",
    "            prediction = model.predict(img)\n",
    "            if prediction > 0.5:\n",
    "                prediction_class = 1\n",
    "            else:\n",
    "                prediction_class = 0\n",
    "            result = catergories[prediction_class]\n",
    "            if result not in predictor:\n",
    "                predictor[result] = 1\n",
    "            else:\n",
    "                predictor[result] += 1\n",
    "        except Exception as e:\n",
    "            pass\n",
    "    return predictor"
   ]
  },
  {
   "cell_type": "code",
   "execution_count": null,
   "metadata": {},
   "outputs": [],
   "source": [
    "check_fake(test_dir, catergories[0])"
   ]
  },
  {
   "cell_type": "code",
   "execution_count": null,
   "metadata": {},
   "outputs": [],
   "source": [
    "check_fake(test_dir, catergories[1])"
   ]
  }
 ],
 "metadata": {
  "kernelspec": {
   "display_name": ".env",
   "language": "python",
   "name": "python3"
  },
  "language_info": {
   "codemirror_mode": {
    "name": "ipython",
    "version": 3
   },
   "file_extension": ".py",
   "mimetype": "text/x-python",
   "name": "python",
   "nbconvert_exporter": "python",
   "pygments_lexer": "ipython3",
   "version": "3.11.8"
  }
 },
 "nbformat": 4,
 "nbformat_minor": 2
}
