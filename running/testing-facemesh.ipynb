{
 "cells": [
  {
   "cell_type": "code",
   "execution_count": 1,
   "metadata": {},
   "outputs": [],
   "source": [
    "import cv2\n",
    "import mediapipe as mp"
   ]
  },
  {
   "cell_type": "code",
   "execution_count": 2,
   "metadata": {},
   "outputs": [],
   "source": [
    "mp_drawing = mp.solutions.drawing_utils\n",
    "mp_drawing_styles = mp.solutions.drawing_styles\n",
    "\n",
    "my_drawing_specs = mp_drawing.DrawingSpec(color = (0, 255, 0), thickness = 1)"
   ]
  },
  {
   "cell_type": "code",
   "execution_count": 6,
   "metadata": {},
   "outputs": [],
   "source": [
    "cap = cv2.VideoCapture(0)\n",
    "width = 800\n",
    "height = 600\n",
    "mp_face_mesh = mp.solutions.face_mesh\n",
    "\n",
    "LEFT_EYE_POINT = {33, 246, 161, 160, 159, 158, 157, 173, 133, 155, 154, 153, 145, 144, 163, 7}\n",
    "LEFT_IRIS_POINT = {469, 470, 471, 472}\n",
    "RIGHT_EYE_POINT = {362, 398, 384, 385, 386, 387, 388, 466, 263, 249, 390, 373, 374, 380, 381, 382}\n",
    "RIGHT_IRIS_POINT = {474, 475, 476, 477}\n",
    "\n",
    "with mp_face_mesh.FaceMesh(\n",
    "        max_num_faces = 1,\n",
    "        refine_landmarks = True,\n",
    "        min_detection_confidence = 0.5,\n",
    "        min_tracking_confidence = 0.5\n",
    "    ) as face_mesh:\n",
    "\n",
    "    while cap.isOpened():\n",
    "        success, image = cap.read()\n",
    "        if not success:\n",
    "            break\n",
    "        image = cv2.resize(image, (width, height))\n",
    "        results = face_mesh.process(image)\n",
    "        \n",
    "        if results.multi_face_landmarks:\n",
    "            for face_landmarks in results.multi_face_landmarks:\n",
    "                mp_drawing.draw_landmarks(\n",
    "                    image = image,\n",
    "                    landmark_list = face_landmarks,\n",
    "                    connections = mp_face_mesh.FACEMESH_TESSELATION,\n",
    "                    landmark_drawing_spec = None,\n",
    "                    connection_drawing_spec = mp_drawing_styles\n",
    "                    .get_default_face_mesh_tesselation_style()\n",
    "                )\n",
    "\n",
    "                mp_drawing.draw_landmarks(\n",
    "                    image = image,\n",
    "                    landmark_list = face_landmarks,\n",
    "                    connections = mp_face_mesh.FACEMESH_CONTOURS,\n",
    "                    landmark_drawing_spec = None,\n",
    "                    connection_drawing_spec = my_drawing_specs\n",
    "                )\n",
    "\n",
    "                for idx in LEFT_EYE_POINT:\n",
    "                    landmark = face_landmarks.landmark[idx]\n",
    "                    x = int(landmark.x * width)\n",
    "                    y = int(landmark.y * height)\n",
    "                    cv2.putText(image, str(idx), (x, y), cv2.FONT_HERSHEY_SIMPLEX, 0.3, (255, 255, 255), 1, cv2.LINE_AA)\n",
    "                for idx in RIGHT_EYE_POINT:\n",
    "                    landmark = face_landmarks.landmark[idx]\n",
    "                    x = int(landmark.x * width)\n",
    "                    y = int(landmark.y * height)\n",
    "                    cv2.putText(image, str(idx), (x, y), cv2.FONT_HERSHEY_SIMPLEX, 0.3, (255, 255, 255), 1, cv2.LINE_AA)\n",
    "\n",
    "                for idx in LEFT_IRIS_POINT:\n",
    "                    landmark = face_landmarks.landmark[idx]\n",
    "                    x = int(landmark.x * width)\n",
    "                    y = int(landmark.y * height)\n",
    "                    cv2.putText(image, str(idx), (x, y), cv2.FONT_HERSHEY_SIMPLEX, 0.3, (255, 255, 255), 1, cv2.LINE_AA)\n",
    "                for idx in RIGHT_IRIS_POINT:\n",
    "                    landmark = face_landmarks.landmark[idx]\n",
    "                    x = int(landmark.x * width)\n",
    "                    y = int(landmark.y * height)\n",
    "                    cv2.putText(image, str(idx), (x, y), cv2.FONT_HERSHEY_SIMPLEX, 0.3, (255, 255, 255), 1, cv2.LINE_AA) \n",
    "\n",
    "        image = cv2.flip(image, 1)\n",
    "        cv2.imshow(\"Camera\", cv2.flip(image, 1))\n",
    "\n",
    "        if cv2.waitKey(100) & 0xFF == ord('q'):\n",
    "            break\n",
    "        \n",
    "cap.release()\n",
    "cv2.destroyAllWindows()"
   ]
  }
 ],
 "metadata": {
  "kernelspec": {
   "display_name": ".env",
   "language": "python",
   "name": "python3"
  },
  "language_info": {
   "codemirror_mode": {
    "name": "ipython",
    "version": 3
   },
   "file_extension": ".py",
   "mimetype": "text/x-python",
   "name": "python",
   "nbconvert_exporter": "python",
   "pygments_lexer": "ipython3",
   "version": "3.11.8"
  }
 },
 "nbformat": 4,
 "nbformat_minor": 2
}
