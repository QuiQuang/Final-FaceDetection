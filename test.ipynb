{
 "cells": [
  {
   "cell_type": "code",
   "execution_count": 53,
   "metadata": {},
   "outputs": [],
   "source": [
    "import cv2\n",
    "import numpy as np\n",
    "import mediapipe as mp"
   ]
  },
  {
   "cell_type": "code",
   "execution_count": 54,
   "metadata": {},
   "outputs": [],
   "source": [
    "image = cv2.imread(\"face_an_1.jpg\")"
   ]
  },
  {
   "cell_type": "code",
   "execution_count": 55,
   "metadata": {},
   "outputs": [],
   "source": [
    "def landmarksDetection(img, results, draw=False):\n",
    "    img_height, img_width = img.shape[:2]\n",
    "    # list[(x,y), (x,y)....]\n",
    "    mesh_coord = [\n",
    "        (int(point.x * img_width), int(point.y * img_height))\n",
    "        for point in results.multi_face_landmarks[0].landmark\n",
    "    ]\n",
    "    if draw:\n",
    "        [cv2.circle(img, p, 2, (0, 255, 0), -1) for p in mesh_coord]\n",
    "\n",
    "    # returning the list of tuples for each landmarks\n",
    "    return mesh_coord"
   ]
  },
  {
   "cell_type": "code",
   "execution_count": 56,
   "metadata": {},
   "outputs": [],
   "source": [
    "map_face_mesh = mp.solutions.face_mesh\n",
    "with map_face_mesh.FaceMesh(\n",
    "    min_detection_confidence=0.5, min_tracking_confidence=0.5\n",
    ") as face_mesh:\n",
    "    frame = cv2.resize(image, None, fx=1, fy=1, interpolation=cv2.INTER_CUBIC)\n",
    "    rgb_frame = cv2.cvtColor(frame, cv2.COLOR_RGB2BGR)\n",
    "    results = face_mesh.process(rgb_frame)\n",
    "    mesh_coords = landmarksDetection(frame, results, False)"
   ]
  },
  {
   "cell_type": "code",
   "execution_count": 2,
   "metadata": {},
   "outputs": [],
   "source": [
    "LEFT_EYE = [\n",
    "    362,\n",
    "    382,\n",
    "    381,\n",
    "    380,\n",
    "    374,\n",
    "    373,\n",
    "    390,\n",
    "    249,\n",
    "    263,\n",
    "    466,\n",
    "    388,\n",
    "    387,\n",
    "    386,\n",
    "    385,\n",
    "    384,\n",
    "    398,\n",
    "]\n",
    "RIGHT_EYE = [\n",
    "    33,\n",
    "    7,\n",
    "    163,\n",
    "    144,\n",
    "    145,\n",
    "    153,\n",
    "    154,\n",
    "    155,\n",
    "    133,\n",
    "    173,\n",
    "    157,\n",
    "    158,\n",
    "    159,\n",
    "    160,\n",
    "    161,\n",
    "    246,\n",
    "]\n",
    "FACE_OVAL = [\n",
    "    10,\n",
    "    338,\n",
    "    297,\n",
    "    332,\n",
    "    284,\n",
    "    251,\n",
    "    389,\n",
    "    356,\n",
    "    454,\n",
    "    323,\n",
    "    361,\n",
    "    288,\n",
    "    397,\n",
    "    365,\n",
    "    379,\n",
    "    378,\n",
    "    400,\n",
    "    377,\n",
    "    152,\n",
    "    148,\n",
    "    176,\n",
    "    149,\n",
    "    150,\n",
    "    136,\n",
    "    172,\n",
    "    58,\n",
    "    132,\n",
    "    93,\n",
    "    234,\n",
    "    127,\n",
    "    162,\n",
    "    21,\n",
    "    54,\n",
    "    103,\n",
    "    67,\n",
    "    109,\n",
    "]\n",
    "EYE = [\n",
    "    362,\n",
    "    382,\n",
    "    381,\n",
    "    380,\n",
    "    374,\n",
    "    373,\n",
    "    390,\n",
    "    249,\n",
    "    263,\n",
    "    466,\n",
    "    388,\n",
    "    387,\n",
    "    386,\n",
    "    385,\n",
    "    384,\n",
    "    398,\n",
    "    33,\n",
    "    7,\n",
    "    163,\n",
    "    144,\n",
    "    145,\n",
    "    153,\n",
    "    154,\n",
    "    155,\n",
    "    133,\n",
    "    173,\n",
    "    157,\n",
    "    158,\n",
    "    159,\n",
    "    160,\n",
    "    161,\n",
    "    246,\n",
    "    ]\n",
    "\n",
    "top_head = mesh_coords[10]\n",
    "bot_chin = mesh_coords[152]\n",
    "face_coords = [mesh_coords[p] for p in FACE_OVAL]\n",
    "left_coords = [mesh_coords[p] for p in LEFT_EYE]\n",
    "right_coords = [mesh_coords[p] for p in RIGHT_EYE]\n",
    "eye_coords = [mesh_coords[p] for p in EYE]"
   ]
  },
  {
   "cell_type": "code",
   "execution_count": 58,
   "metadata": {},
   "outputs": [
    {
     "name": "stdout",
     "output_type": "stream",
     "text": [
      "(231, 157)\n",
      "(241, 170)\n"
     ]
    }
   ],
   "source": [
    "# Tính trung tâm của hai mắt\n",
    "eye_center = (round(sum(coord[0] for coord in eye_coords) / len(eye_coords)), round(sum(coord[1] for coord in eye_coords) / len(eye_coords)))\n",
    "face_center = (round(sum(coord[0] for coord in face_coords) / len(face_coords)), round(sum(coord[1] for coord in face_coords) / len(face_coords)))\n",
    "\n",
    "print(eye_center)\n",
    "print(face_center)"
   ]
  },
  {
   "cell_type": "code",
   "execution_count": 59,
   "metadata": {},
   "outputs": [],
   "source": [
    "slope_rotate_head = (top_head[1] - bot_chin[1]) / (top_head[0] - bot_chin[0])\n",
    "slope_direct = (eye_center[1] - face_center[1]) / (eye_center[0] - face_center[0])"
   ]
  },
  {
   "cell_type": "code",
   "execution_count": 60,
   "metadata": {},
   "outputs": [],
   "source": [
    "a = np.arctan(slope_rotate_head) * 180 / np.pi\n",
    "if a > 0:\n",
    "    angle = -(90 - abs(a))\n",
    "else: \n",
    "    angle = 90 - a"
   ]
  },
  {
   "cell_type": "code",
   "execution_count": 61,
   "metadata": {},
   "outputs": [],
   "source": [
    "w_new = round(abs(frame.shape[1] * np.cos(np.deg2rad(angle))) + abs(frame.shape[0] * np.sin(np.deg2rad(angle))))\n",
    "h_new = round(abs(frame.shape[1] * np.sin(np.deg2rad(angle))) + abs(frame.shape[0] * np.cos(np.deg2rad(angle))))"
   ]
  },
  {
   "cell_type": "code",
   "execution_count": 62,
   "metadata": {},
   "outputs": [
    {
     "data": {
      "text/plain": [
       "(300, 500, 3)"
      ]
     },
     "execution_count": 62,
     "metadata": {},
     "output_type": "execute_result"
    }
   ],
   "source": [
    "frame.shape"
   ]
  },
  {
   "cell_type": "code",
   "execution_count": 63,
   "metadata": {},
   "outputs": [],
   "source": [
    "def translate_image_to_center(image, new_size):\n",
    "    curr_size = (image.shape[1], image.shape[0])\n",
    "    new_image = np.zeros((new_size[1], new_size[0]) + (3,), dtype=np.uint8)\n",
    "\n",
    "    new_image[(new_size[1] - curr_size[1])//2:(new_size[1] + curr_size[1])//2,\n",
    "               (new_size[0] - curr_size[0])//2:(new_size[0] + curr_size[0])//2] = image\n",
    "    return new_image"
   ]
  },
  {
   "cell_type": "code",
   "execution_count": 64,
   "metadata": {},
   "outputs": [],
   "source": [
    "new_size = (w_new, h_new)\n",
    "def rotate_image(image, new_sizem, angle):\n",
    "    frame = translate_image_to_center(image, new_size)\n",
    "    new_center = (w_new // 2, h_new // 2)\n",
    "    rotation_matrix = cv2.getRotationMatrix2D(new_center, angle, 1.0)\n",
    "    frame = cv2.warpAffine(frame, rotation_matrix, new_size)\n",
    "    return frame"
   ]
  },
  {
   "cell_type": "code",
   "execution_count": 65,
   "metadata": {},
   "outputs": [],
   "source": [
    "def rotate_point(point, angle, center, new_size, old_size):\n",
    "    new_point = (point[0] + (new_size[0] - old_size[0]) // 2, point[1] + (new_size[1] - old_size[1]) // 2)\n",
    "    rotation_matrix = cv2.getRotationMatrix2D(center, angle, 1.0)\n",
    "    rotation_matrix = np.vstack([rotation_matrix, [0, 0, 1]])\n",
    "    point_homogeneous = np.array([new_point[0], new_point[1], 1]).reshape((3, 1))\n",
    "    rotated_point = np.dot(rotation_matrix, point_homogeneous)\n",
    "    return round(rotated_point[0][0]), round(rotated_point[1][0])"
   ]
  },
  {
   "cell_type": "code",
   "execution_count": 67,
   "metadata": {},
   "outputs": [
    {
     "data": {
      "text/plain": [
       "270"
      ]
     },
     "execution_count": 67,
     "metadata": {},
     "output_type": "execute_result"
    }
   ],
   "source": [
    "new_chin = rotate_point(bot_chin, angle, (w_new // 2, h_new // 2), new_size, (image.shape[1], image.shape[0]))\n",
    "new_chin[0]"
   ]
  },
  {
   "cell_type": "code",
   "execution_count": 68,
   "metadata": {},
   "outputs": [],
   "source": [
    "frame = rotate_image(image, new_size, angle)\n",
    "cv2.circle(frame, new_chin, 5, (0, 255, 0), -1)\n",
    "\n",
    "cv2.imshow(\"Rotated Image\", frame)\n",
    "cv2.waitKey(0)\n",
    "cv2.destroyAllWindows()"
   ]
  }
 ],
 "metadata": {
  "kernelspec": {
   "display_name": ".env",
   "language": "python",
   "name": "python3"
  },
  "language_info": {
   "codemirror_mode": {
    "name": "ipython",
    "version": 3
   },
   "file_extension": ".py",
   "mimetype": "text/x-python",
   "name": "python",
   "nbconvert_exporter": "python",
   "pygments_lexer": "ipython3",
   "version": "3.11.8"
  }
 },
 "nbformat": 4,
 "nbformat_minor": 2
}
